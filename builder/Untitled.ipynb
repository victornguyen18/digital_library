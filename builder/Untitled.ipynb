{
 "cells": [
  {
   "cell_type": "code",
   "execution_count": 1,
   "metadata": {},
   "outputs": [],
   "source": [
    "import numpy as np"
   ]
  },
  {
   "cell_type": "code",
   "execution_count": 2,
   "metadata": {},
   "outputs": [],
   "source": [
    "ratings_matrix = np.array([\n",
    "#                         [np.nan,np.nan,np.nan,np.nan,np.nan], \n",
    "                        [5,1,np.nan,2,2], \n",
    "                        [1,5,np.nan,5,5],\n",
    "                        [2,np.nan,np.nan,5,4],\n",
    "                        [4,3,np.nan,3,np.nan]])"
   ]
  },
  {
   "cell_type": "code",
   "execution_count": 3,
   "metadata": {},
   "outputs": [],
   "source": [
    "def specified_rating_indices(u):\n",
    "    if np.sum(~np.isnan(u)) == 0:\n",
    "        return None\n",
    "    else:\n",
    "        return list(map(tuple, np.where(np.isfinite(u))))"
   ]
  },
  {
   "cell_type": "code",
   "execution_count": 4,
   "metadata": {},
   "outputs": [],
   "source": [
    "def mean(u):\n",
    "    if specified_rating_indices(u) is None:\n",
    "        return np.NaN\n",
    "    else:\n",
    "        specified_ratings = u[specified_rating_indices(u)]  # u[np.isfinite(u)]\n",
    "        m = sum(specified_ratings) / np.shape(specified_ratings)[0]\n",
    "        return m"
   ]
  },
  {
   "cell_type": "code",
   "execution_count": 5,
   "metadata": {},
   "outputs": [],
   "source": [
    "def all_user_mean_ratings(ratings_matrix):\n",
    "    return np.array([mean(ratings_matrix[u, :]) for u in range(ratings_matrix.shape[0])])"
   ]
  },
  {
   "cell_type": "code",
   "execution_count": 6,
   "metadata": {},
   "outputs": [],
   "source": [
    "def get_mean_centered_ratings_matrix(ratings_matrix):\n",
    "    print(ratings_matrix)\n",
    "    users_mean_rating = all_user_mean_ratings(ratings_matrix)\n",
    "    print(users_mean_rating)\n",
    "    print(np.reshape(users_mean_rating, [-1, 1]))\n",
    "    mean_centered_ratings_matrix = ratings_matrix - np.reshape(users_mean_rating, [-1, 1])\n",
    "    print(mean_centered_ratings_matrix)\n",
    "    return mean_centered_ratings_matrix"
   ]
  },
  {
   "cell_type": "code",
   "execution_count": 7,
   "metadata": {},
   "outputs": [
    {
     "name": "stdout",
     "output_type": "stream",
     "text": [
      "[[ 5.  1. nan  2.  2.]\n",
      " [ 1.  5. nan  5.  5.]\n",
      " [ 2. nan nan  5.  4.]\n",
      " [ 4.  3. nan  3. nan]]\n",
      "[2.5        4.         3.66666667 3.33333333]\n",
      "[[2.5       ]\n",
      " [4.        ]\n",
      " [3.66666667]\n",
      " [3.33333333]]\n",
      "[[ 2.5        -1.5                nan -0.5        -0.5       ]\n",
      " [-3.          1.                 nan  1.          1.        ]\n",
      " [-1.66666667         nan         nan  1.33333333  0.33333333]\n",
      " [ 0.66666667 -0.33333333         nan -0.33333333         nan]]\n"
     ]
    },
    {
     "name": "stderr",
     "output_type": "stream",
     "text": [
      "/Library/Frameworks/Python.framework/Versions/3.6/lib/python3.6/site-packages/ipykernel_launcher.py:5: FutureWarning: Using a non-tuple sequence for multidimensional indexing is deprecated; use `arr[tuple(seq)]` instead of `arr[seq]`. In the future this will be interpreted as an array index, `arr[np.array(seq)]`, which will result either in an error or a different result.\n",
      "  \"\"\"\n"
     ]
    }
   ],
   "source": [
    "mean_centered_ratings_matrix = get_mean_centered_ratings_matrix(ratings_matrix)"
   ]
  },
  {
   "cell_type": "code",
   "execution_count": 8,
   "metadata": {},
   "outputs": [],
   "source": [
    "def pearson(u, v):\n",
    "    mean_u = mean(u)\n",
    "    mean_v = mean(v)\n",
    "    \n",
    "    if mean_u is None or mean_v is None or specified_rating_indices(u) is None or specified_rating_indices(v) is None:\n",
    "        return np.NaN\n",
    "    \n",
    "    specified_rating_indices_u = set(specified_rating_indices(u)[0])\n",
    "    specified_rating_indices_v = set(specified_rating_indices(v)[0])\n",
    "    \n",
    "    mutually_specified_ratings_indices = specified_rating_indices_u.intersection(specified_rating_indices_v)\n",
    "    mutually_specified_ratings_indices = list(mutually_specified_ratings_indices)\n",
    "    \n",
    "    u_mutually = u[mutually_specified_ratings_indices]\n",
    "    v_mutually = v[mutually_specified_ratings_indices]\n",
    "      \n",
    "    centralized_mutually_u = u_mutually - mean_u\n",
    "    centralized_mutually_v = v_mutually - mean_v\n",
    "\n",
    "    result = np.sum(np.multiply(centralized_mutually_u, centralized_mutually_v)) \n",
    "    result = result / (np.sqrt(np.sum(np.square(centralized_mutually_u))) * np.sqrt(np.sum(np.square(centralized_mutually_v))))\n",
    "\n",
    "    return result"
   ]
  },
  {
   "cell_type": "code",
   "execution_count": 9,
   "metadata": {},
   "outputs": [
    {
     "name": "stdout",
     "output_type": "stream",
     "text": [
      "-0.8908708063747478\n"
     ]
    },
    {
     "name": "stderr",
     "output_type": "stream",
     "text": [
      "/Library/Frameworks/Python.framework/Versions/3.6/lib/python3.6/site-packages/ipykernel_launcher.py:5: FutureWarning: Using a non-tuple sequence for multidimensional indexing is deprecated; use `arr[tuple(seq)]` instead of `arr[seq]`. In the future this will be interpreted as an array index, `arr[np.array(seq)]`, which will result either in an error or a different result.\n",
      "  \"\"\"\n"
     ]
    }
   ],
   "source": [
    "print(pearson(ratings_matrix[0, :], ratings_matrix[2, :]))"
   ]
  },
  {
   "cell_type": "code",
   "execution_count": 10,
   "metadata": {},
   "outputs": [],
   "source": [
    "def get_user_similarity_value_for(u_index, ratings_matrix):\n",
    "    user_ratings = ratings_matrix[u_index, :]\n",
    "    similarity_value = np.array([pearson(ratings_matrix[i, :], user_ratings) for i in range(ratings_matrix.shape[0])])\n",
    "    return similarity_value"
   ]
  },
  {
   "cell_type": "code",
   "execution_count": 11,
   "metadata": {},
   "outputs": [],
   "source": [
    "def get_user_similarity_matrix(ratings_matrix):\n",
    "    similarity_matrix = []\n",
    "    for u_index in range(ratings_matrix.shape[0]):\n",
    "        similarity_value = get_user_similarity_value_for(u_index, ratings_matrix)\n",
    "        print(u_index,':',similarity_value)\n",
    "        similarity_matrix.append(similarity_value)\n",
    "    return np.array(similarity_matrix)"
   ]
  },
  {
   "cell_type": "code",
   "execution_count": 12,
   "metadata": {},
   "outputs": [
    {
     "name": "stdout",
     "output_type": "stream",
     "text": [
      "0 : [ 1.         -0.96225045 -0.89087081  0.96609178]\n",
      "1 : [-0.96225045  1.          0.93048421 -0.98473193]\n",
      "2 : [-0.89087081  0.93048421  1.         -0.97780241]\n",
      "3 : [ 0.96609178 -0.98473193 -0.97780241  1.        ]\n",
      "[[ 1.         -0.96225045 -0.89087081  0.96609178]\n",
      " [-0.96225045  1.          0.93048421 -0.98473193]\n",
      " [-0.89087081  0.93048421  1.         -0.97780241]\n",
      " [ 0.96609178 -0.98473193 -0.97780241  1.        ]]\n"
     ]
    },
    {
     "name": "stderr",
     "output_type": "stream",
     "text": [
      "/Library/Frameworks/Python.framework/Versions/3.6/lib/python3.6/site-packages/ipykernel_launcher.py:5: FutureWarning: Using a non-tuple sequence for multidimensional indexing is deprecated; use `arr[tuple(seq)]` instead of `arr[seq]`. In the future this will be interpreted as an array index, `arr[np.array(seq)]`, which will result either in an error or a different result.\n",
      "  \"\"\"\n"
     ]
    }
   ],
   "source": [
    "user_similarity_matrix = get_user_similarity_matrix(ratings_matrix)\n",
    "print(user_similarity_matrix)"
   ]
  },
  {
   "cell_type": "code",
   "execution_count": 13,
   "metadata": {},
   "outputs": [],
   "source": [
    "def predict(u_index, i_index, k):\n",
    "# k là số lượng người dùng giống với người dùng cần dự đoán\n",
    "# ta có thể tùy chọn giá trị k này\n",
    "    users_mean_rating = all_user_mean_ratings(ratings_matrix)\n",
    "    \n",
    "    similarity_value = user_similarity_matrix[u_index]\n",
    "    sorted_users_similar = np.argsort(similarity_value)\n",
    "    sorted_users_similar = np.flip(sorted_users_similar, axis=0)\n",
    "    if specified_rating_indices(ratings_matrix[:, i_index]) is None:\n",
    "        return np.nan\n",
    "    users_rated_item = specified_rating_indices(ratings_matrix[:, i_index])[0]\n",
    "    print('users_rated_item',users_rated_item)\n",
    "    ranked_similar_user_rated_item = [u for u in sorted_users_similar if u in users_rated_item]\n",
    "    \n",
    "    if k < len(ranked_similar_user_rated_item):\n",
    "        top_k_similar_user = ranked_similar_user_rated_item[0:k]   \n",
    "    else:\n",
    "        top_k_similar_user = np.array(ranked_similar_user_rated_item)\n",
    "            \n",
    "    ratings_in_item = mean_centered_ratings_matrix[:, i_index]\n",
    "    top_k_ratings = ratings_in_item[top_k_similar_user]\n",
    "    \n",
    "    top_k_similarity_value = similarity_value[top_k_similar_user]\n",
    "    \n",
    "    r_hat = users_mean_rating[u_index] + np.sum(top_k_ratings * top_k_similarity_value)/np.sum(np.abs(top_k_similarity_value))\n",
    "    return r_hat"
   ]
  },
  {
   "cell_type": "code",
   "execution_count": 14,
   "metadata": {
    "scrolled": true
   },
   "outputs": [
    {
     "name": "stdout",
     "output_type": "stream",
     "text": [
      "nan\n"
     ]
    },
    {
     "name": "stderr",
     "output_type": "stream",
     "text": [
      "/Library/Frameworks/Python.framework/Versions/3.6/lib/python3.6/site-packages/ipykernel_launcher.py:5: FutureWarning: Using a non-tuple sequence for multidimensional indexing is deprecated; use `arr[tuple(seq)]` instead of `arr[seq]`. In the future this will be interpreted as an array index, `arr[np.array(seq)]`, which will result either in an error or a different result.\n",
      "  \"\"\"\n"
     ]
    }
   ],
   "source": [
    "print(predict(1, 2, 10))"
   ]
  },
  {
   "cell_type": "code",
   "execution_count": 21,
   "metadata": {},
   "outputs": [],
   "source": [
    "def predict_top_k_items_of_user(u_index, k_users):\n",
    "    items = []\n",
    "    print(ratings_matrix)\n",
    "    # Loop in num_title\n",
    "    for i_index in range(ratings_matrix.shape[1]):\n",
    "        print(i_index)\n",
    "        if np.isnan(ratings_matrix[u_index][i_index]):\n",
    "            rating = predict(u_index, i_index, k_users)\n",
    "            if not np.isnan(rating):\n",
    "                items.append((i_index, rating))\n",
    "    items = sorted(items, key=lambda tup: tup[1])\n",
    "    return list(reversed(items))"
   ]
  },
  {
   "cell_type": "code",
   "execution_count": 22,
   "metadata": {},
   "outputs": [
    {
     "name": "stdout",
     "output_type": "stream",
     "text": [
      "[[ 5.  1. nan  2.  2.]\n",
      " [ 1.  5. nan  5.  5.]\n",
      " [ 2. nan nan  5.  4.]\n",
      " [ 4.  3. nan  3. nan]]\n",
      "0\n",
      "1\n",
      "users_rated_item (0, 1, 3)\n",
      "2\n",
      "3\n",
      "4\n",
      "[(1, 4.592918448510355)]\n"
     ]
    },
    {
     "name": "stderr",
     "output_type": "stream",
     "text": [
      "/Library/Frameworks/Python.framework/Versions/3.6/lib/python3.6/site-packages/ipykernel_launcher.py:5: FutureWarning: Using a non-tuple sequence for multidimensional indexing is deprecated; use `arr[tuple(seq)]` instead of `arr[seq]`. In the future this will be interpreted as an array index, `arr[np.array(seq)]`, which will result either in an error or a different result.\n",
      "  \"\"\"\n"
     ]
    }
   ],
   "source": [
    "print(predict_top_k_items_of_user(2, 10))"
   ]
  },
  {
   "cell_type": "code",
   "execution_count": null,
   "metadata": {},
   "outputs": [],
   "source": []
  }
 ],
 "metadata": {
  "kernelspec": {
   "display_name": "Python 3",
   "language": "python",
   "name": "python3"
  },
  "language_info": {
   "codemirror_mode": {
    "name": "ipython",
    "version": 3
   },
   "file_extension": ".py",
   "mimetype": "text/x-python",
   "name": "python",
   "nbconvert_exporter": "python",
   "pygments_lexer": "ipython3",
   "version": "3.6.6"
  }
 },
 "nbformat": 4,
 "nbformat_minor": 2
}
