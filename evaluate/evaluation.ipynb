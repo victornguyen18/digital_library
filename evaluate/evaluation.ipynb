{
 "cells": [
  {
   "cell_type": "code",
   "execution_count": null,
   "metadata": {},
   "outputs": [],
   "source": [
    "import os\n",
    "import sys\n",
    "import django\n",
    "import logging\n",
    "import itertools\n",
    "import pandas as pd\n",
    "import numpy as np\n",
    "from tqdm import tqdm\n",
    "from django.db.models import Count\n",
    "from sklearn.metrics import mean_squared_error\n",
    "sys.path.insert(0, \"/Users/victornguyen/Sites/07.book_management/\")\n",
    "os.environ.setdefault(\"DJANGO_SETTINGS_MODULE\", \"book_management.settings\")\n",
    "django.setup()\n",
    "logging.basicConfig(format='%(asctime)s : %(levelname)s : %(message)s', level=logging.DEBUG)\n",
    "import django\n",
    "import time\n",
    "from main_site.models import Rating\n",
    "import rs_system.recommender as rs\n",
    "\n",
    "logger = logging.getLogger('Evaluation')"
   ]
  },
  {
   "cell_type": "code",
   "execution_count": null,
   "metadata": {},
   "outputs": [],
   "source": [
    "ratings_count = Rating.objects.all().count()\n",
    "test_data_length = round(ratings_count * 10 /100)\n",
    "all_ratings_df = pd.DataFrame(list(Rating.objects.all().values()))\n",
    "logger.debug('{} ratings available'.format(ratings_count))\n",
    "all_ratings_df.head()\n",
    "all_ratings_df_columns = list(all_ratings_df.columns.values)\n",
    "all_ratings_df_columns"
   ]
  },
  {
   "cell_type": "code",
   "execution_count": null,
   "metadata": {},
   "outputs": [],
   "source": [
    "user_ids = Rating.objects.filter(type='calculate') \\\n",
    "    .values('user_id') \\\n",
    "    .annotate(title_count=Count('title_id')) \\\n",
    "    .order_by('-title_count')\n",
    "print(user_ids.query)\n",
    "title_ids = Rating.objects.filter(type='calculate') \\\n",
    "    .values('title_id') \\\n",
    "    .annotate(user_count=Count('user_id')) \\\n",
    "    .order_by('-user_count')\n",
    "user_ids_df = pd.DataFrame.from_records(user_ids)\n",
    "title_ids_df = pd.DataFrame.from_records(title_ids)\n",
    "user_ids_df.head(5)"
   ]
  },
  {
   "cell_type": "code",
   "execution_count": null,
   "metadata": {},
   "outputs": [],
   "source": [
    "from sklearn.model_selection import KFold "
   ]
  },
  {
   "cell_type": "code",
   "execution_count": null,
   "metadata": {},
   "outputs": [],
   "source": [
    "kf = KFold(n_splits=10)\n",
    "for train, test in kf.split(all_ratings_df):\n",
    "    train_data = np.array(all_ratings_df)[train]\n",
    "    print(\"Train_data\")\n",
    "    print(train_data)\n",
    "    test_data = np.array(all_ratings_df)[test]\n",
    "    print(\"Test_data\")\n",
    "    print(test_data)\n",
    "    print(len(train_data))\n",
    "    print(len(test_data))\n",
    "    test_pd = pd.DataFrame(test_data)\n",
    "    test_pd.columns = all_ratings_df_columns\n",
    "    print(test_pd)\n",
    "    print(\"=====================\")\n",
    "    break\n",
    "test_pd"
   ]
  },
  {
   "cell_type": "code",
   "execution_count": null,
   "metadata": {
    "scrolled": true
   },
   "outputs": [],
   "source": [
    "# all_ratings_df = pd.merge(all_ratings_df, user_ids_df, left_on='user_id', right_on='user_id')\n",
    "# all_ratings_df = pd.merge(all_ratings_df, title_ids_df, left_on='title_id', right_on='title_id')\n",
    "# all_ratings_df.head(5)"
   ]
  },
  {
   "cell_type": "code",
   "execution_count": null,
   "metadata": {
    "scrolled": true
   },
   "outputs": [],
   "source": [
    "count = 0\n",
    "test_data = list()\n",
    "for row in tqdm(user_ids_df.itertuples()):\n",
    "    if row.title_count == 1:\n",
    "        break\n",
    "    if row.title_count > 10:\n",
    "        limit_row = 3\n",
    "    elif row.title_count > 5:\n",
    "        limit_row = 2\n",
    "    else:\n",
    "        limit_row = 1\n",
    "    test_data.extend(list(Rating.objects.filter(user_id=row.user_id).order_by('-rating').values()[:limit_row]))\n",
    "    count +=limit_row\n",
    "    if count == test_data_length:\n",
    "        break\n",
    "test_data_df =  pd.DataFrame(test_data)\n",
    "test_data_id = list(test_data_df.id)\n",
    "test_data_id\n",
    "# [41, 58, 23, 54, 18, 1, 130, 83, 139, 105, 21, 48, 51, 28"
   ]
  },
  {
   "cell_type": "code",
   "execution_count": null,
   "metadata": {},
   "outputs": [],
   "source": [
    "train_data_df = pd.DataFrame(list(Rating.objects.exclude(id__in=test_data_id).values()))\n",
    "rating_df = pd.DataFrame(list(Rating.objects.all().values()))\n",
    "train_data_df"
   ]
  },
  {
   "cell_type": "code",
   "execution_count": null,
   "metadata": {
    "scrolled": true
   },
   "outputs": [],
   "source": [
    "len(test_data)"
   ]
  },
  {
   "cell_type": "code",
   "execution_count": null,
   "metadata": {},
   "outputs": [],
   "source": [
    "y_true = [3, -0.5, 2, 7]\n",
    "y_pred = [2.5, 0.0, 2, 8]\n",
    "mean_squared_error(y_true, y_pred)"
   ]
  },
  {
   "cell_type": "code",
   "execution_count": null,
   "metadata": {},
   "outputs": [],
   "source": [
    "train_data_df"
   ]
  },
  {
   "cell_type": "code",
   "execution_count": null,
   "metadata": {},
   "outputs": [],
   "source": [
    "test_data_df"
   ]
  },
  {
   "cell_type": "code",
   "execution_count": null,
   "metadata": {},
   "outputs": [],
   "source": [
    "res_nb = nb_rs.RecommendationNB()\n",
    "rating_matrix, item_rating_matrix = res_nb.get_rating_matrix()\n",
    "mean_centered_rating_matrix = res_nb.get_mean_centered_ratings_matrix(rating_matrix)\n",
    "item_mean_centered_rating_matrix = res_nb.get_mean_centered_ratings_matrix(item_rating_matrix)\n",
    "\n",
    "user_similarity_matrix = res_nb.get_similarity_matrix(rating_matrix)\n",
    "item_similarity_matrix = res_nb.get_similarity_matrix(item_rating_matrix)"
   ]
  },
  {
   "cell_type": "code",
   "execution_count": null,
   "metadata": {},
   "outputs": [],
   "source": [
    "rating_matrix[8]"
   ]
  },
  {
   "cell_type": "code",
   "execution_count": null,
   "metadata": {},
   "outputs": [],
   "source": [
    "y_true = []\n",
    "y_pred = []\n",
    "for row in tqdm(test_data_df.itertuples()):\n",
    "    y_true.append(float(row.rating))\n",
    "#     predict_result = res_nb.predict(row.user_id, row.title_id, rating_matrix, mean_centered_rating_matrix, user_similarity_matrix)\n",
    "    y_pred.append(rating_matrix[row.user_id,row.title_id])\n",
    "print(y_true)\n",
    "print(y_pred)"
   ]
  },
  {
   "cell_type": "code",
   "execution_count": null,
   "metadata": {},
   "outputs": [],
   "source": [
    "kf = KFold(n_splits=10)\n",
    "for train, test in kf.split(all_ratings_df):\n",
    "    # Train data\n",
    "    train_data = np.array(all_ratings_df)[train]\n",
    "    train_data_df = pd.DataFrame(train_data)\n",
    "    train_data_df.columns = all_ratings_df_columns\n",
    "\n",
    "    # Test data\n",
    "    test_data = np.array(all_ratings_df)[test]\n",
    "    test_data_df = pd.DataFrame(test_data)\n",
    "    test_data_df.columns = all_ratings_df_columns\n",
    "\n",
    "    # Initialize RS\n",
    "    res_nb = nb_rs.RecommendationNB(train_data)\n",
    "    y_true = []\n",
    "    y_pred = []\n",
    "    for row in tqdm(test_data_df.itertuples()):\n",
    "        y_true.append(float(row.rating))\n",
    "        predict_result = res_nb.predict(row.user_id - 1, row.title_id - 1, res_nb.rating_matrix,\n",
    "                                            res_nb.mean_centered_ratings_matrix,\n",
    "                                            res_nb.user_similarity_matrix)\n",
    "        y_pred.append(predict_result)\n",
    "    print(y_true)\n",
    "    print(y_pred)\n",
    "    print(\"=====================\")\n",
    "    break"
   ]
  },
  {
   "cell_type": "code",
   "execution_count": null,
   "metadata": {},
   "outputs": [],
   "source": []
  }
 ],
 "metadata": {
  "kernelspec": {
   "display_name": "Python 3",
   "language": "python",
   "name": "python3"
  },
  "language_info": {
   "codemirror_mode": {
    "name": "ipython",
    "version": 3
   },
   "file_extension": ".py",
   "mimetype": "text/x-python",
   "name": "python",
   "nbconvert_exporter": "python",
   "pygments_lexer": "ipython3",
   "version": "3.6.6"
  }
 },
 "nbformat": 4,
 "nbformat_minor": 4
}
